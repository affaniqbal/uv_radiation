{
 "cells": [
  {
   "cell_type": "markdown",
   "id": "78ce3b04",
   "metadata": {},
   "source": [
    "## Importing the necessary packages"
   ]
  },
  {
   "cell_type": "code",
   "execution_count": 1,
   "id": "127d2fe5",
   "metadata": {},
   "outputs": [],
   "source": [
    "# import sys\n",
    "# import tkinter as tk\n",
    "# from tkinter import filedialog\n",
    "import pandas as pd\n",
    "import matplotlib.pyplot as plt\n"
   ]
  },
  {
   "cell_type": "markdown",
   "id": "66ff35e4",
   "metadata": {},
   "source": [
    "## Loading the raw data.\n",
    "### The data is from DEFRA, please see this link https://uk-air.defra.gov.uk/data/uv-data?action=search\n",
    "#### This link also defines the column headers"
   ]
  },
  {
   "cell_type": "code",
   "execution_count": 2,
   "id": "2f201d15",
   "metadata": {},
   "outputs": [
    {
     "name": "stdout",
     "output_type": "stream",
     "text": [
      " Volume in drive C has no label.\n",
      " Volume Serial Number is A61A-B099\n",
      "\n",
      " Directory of C:\\Users\\aniqb\\Files\\Untitled Folder\n",
      "\n",
      "11/12/2022  20:43    <DIR>          .\n",
      "11/12/2022  20:43    <DIR>          ..\n",
      "11/12/2022  20:42    <DIR>          .ipynb_checkpoints\n",
      "11/12/2022  20:42            27,953 ce46599147cf5c0f9bfc8a3165fd67ad.csv\n",
      "11/12/2022  20:42             1,133 UK_UV_data.ipynb\n",
      "11/12/2022  19:54           300,915 uv_radiation.ipynb\n",
      "               3 File(s)        330,001 bytes\n",
      "               3 Dir(s)  138,374,000,640 bytes free\n"
     ]
    }
   ],
   "source": [
    "ls"
   ]
  },
  {
   "cell_type": "markdown",
   "id": "6ca8b2bc",
   "metadata": {},
   "source": [
    "## Load the file and print the first few rows using pandas"
   ]
  },
  {
   "cell_type": "code",
   "execution_count": 4,
   "id": "05b0d60b",
   "metadata": {},
   "outputs": [],
   "source": [
    "df = pd.read_csv('uv_data.csv')"
   ]
  },
  {
   "cell_type": "code",
   "execution_count": 5,
   "id": "263b9511",
   "metadata": {},
   "outputs": [
    {
     "data": {
      "text/html": [
       "<div>\n",
       "<style scoped>\n",
       "    .dataframe tbody tr th:only-of-type {\n",
       "        vertical-align: middle;\n",
       "    }\n",
       "\n",
       "    .dataframe tbody tr th {\n",
       "        vertical-align: top;\n",
       "    }\n",
       "\n",
       "    .dataframe thead th {\n",
       "        text-align: right;\n",
       "    }\n",
       "</style>\n",
       "<table border=\"1\" class=\"dataframe\">\n",
       "  <thead>\n",
       "    <tr style=\"text-align: right;\">\n",
       "      <th></th>\n",
       "      <th>Measurement date</th>\n",
       "      <th>Measurement time</th>\n",
       "      <th>Site</th>\n",
       "      <th>Instrument</th>\n",
       "      <th>UV Total Index</th>\n",
       "      <th>Level</th>\n",
       "      <th>Data Quality</th>\n",
       "    </tr>\n",
       "  </thead>\n",
       "  <tbody>\n",
       "    <tr>\n",
       "      <th>0</th>\n",
       "      <td>12/02/2022</td>\n",
       "      <td>16:30:00</td>\n",
       "      <td>Reading</td>\n",
       "      <td>DM150</td>\n",
       "      <td>0.1</td>\n",
       "      <td>R</td>\n",
       "      <td>G</td>\n",
       "    </tr>\n",
       "    <tr>\n",
       "      <th>1</th>\n",
       "      <td>12/02/2022</td>\n",
       "      <td>16:00:00</td>\n",
       "      <td>Reading</td>\n",
       "      <td>DM150</td>\n",
       "      <td>0.1</td>\n",
       "      <td>R</td>\n",
       "      <td>G</td>\n",
       "    </tr>\n",
       "    <tr>\n",
       "      <th>2</th>\n",
       "      <td>12/02/2022</td>\n",
       "      <td>15:30:00</td>\n",
       "      <td>Reading</td>\n",
       "      <td>DM150</td>\n",
       "      <td>0.2</td>\n",
       "      <td>R</td>\n",
       "      <td>G</td>\n",
       "    </tr>\n",
       "    <tr>\n",
       "      <th>3</th>\n",
       "      <td>12/02/2022</td>\n",
       "      <td>15:00:00</td>\n",
       "      <td>Reading</td>\n",
       "      <td>DM150</td>\n",
       "      <td>0.4</td>\n",
       "      <td>R</td>\n",
       "      <td>G</td>\n",
       "    </tr>\n",
       "    <tr>\n",
       "      <th>4</th>\n",
       "      <td>12/02/2022</td>\n",
       "      <td>14:30:00</td>\n",
       "      <td>Reading</td>\n",
       "      <td>DM150</td>\n",
       "      <td>0.5</td>\n",
       "      <td>R</td>\n",
       "      <td>G</td>\n",
       "    </tr>\n",
       "  </tbody>\n",
       "</table>\n",
       "</div>"
      ],
      "text/plain": [
       "  Measurement date Measurement time     Site Instrument  UV Total Index Level  \\\n",
       "0       12/02/2022         16:30:00  Reading      DM150             0.1     R   \n",
       "1       12/02/2022         16:00:00  Reading      DM150             0.1     R   \n",
       "2       12/02/2022         15:30:00  Reading      DM150             0.2     R   \n",
       "3       12/02/2022         15:00:00  Reading      DM150             0.4     R   \n",
       "4       12/02/2022         14:30:00  Reading      DM150             0.5     R   \n",
       "\n",
       "  Data Quality  \n",
       "0            G  \n",
       "1            G  \n",
       "2            G  \n",
       "3            G  \n",
       "4            G  "
      ]
     },
     "execution_count": 5,
     "metadata": {},
     "output_type": "execute_result"
    }
   ],
   "source": [
    "df.head()"
   ]
  },
  {
   "cell_type": "code",
   "execution_count": 6,
   "id": "084c42af",
   "metadata": {},
   "outputs": [
    {
     "name": "stdout",
     "output_type": "stream",
     "text": [
      "Index(['Measurement date', 'Measurement time', 'Site', 'Instrument',\n",
      "       'UV Total Index', 'Level', 'Data Quality'],\n",
      "      dtype='object')\n"
     ]
    }
   ],
   "source": [
    "## Print out the different data features\n",
    "column_names = df.columns\n",
    "print(column_names)"
   ]
  },
  {
   "cell_type": "markdown",
   "id": "7928a295",
   "metadata": {},
   "source": [
    "##Lets see how granular the data is in the time domain."
   ]
  },
  {
   "cell_type": "code",
   "execution_count": 10,
   "id": "5d7ba2d9",
   "metadata": {},
   "outputs": [
    {
     "data": {
      "text/html": [
       "<div>\n",
       "<style scoped>\n",
       "    .dataframe tbody tr th:only-of-type {\n",
       "        vertical-align: middle;\n",
       "    }\n",
       "\n",
       "    .dataframe tbody tr th {\n",
       "        vertical-align: top;\n",
       "    }\n",
       "\n",
       "    .dataframe thead th {\n",
       "        text-align: right;\n",
       "    }\n",
       "</style>\n",
       "<table border=\"1\" class=\"dataframe\">\n",
       "  <thead>\n",
       "    <tr style=\"text-align: right;\">\n",
       "      <th></th>\n",
       "      <th>Measurement date</th>\n",
       "      <th>Measurement time</th>\n",
       "      <th>Site</th>\n",
       "      <th>Instrument</th>\n",
       "      <th>UV Total Index</th>\n",
       "      <th>Level</th>\n",
       "      <th>Data Quality</th>\n",
       "    </tr>\n",
       "  </thead>\n",
       "  <tbody>\n",
       "    <tr>\n",
       "      <th>0</th>\n",
       "      <td>12/02/2022</td>\n",
       "      <td>16:30:00</td>\n",
       "      <td>Reading</td>\n",
       "      <td>DM150</td>\n",
       "      <td>0.1</td>\n",
       "      <td>R</td>\n",
       "      <td>G</td>\n",
       "    </tr>\n",
       "    <tr>\n",
       "      <th>1</th>\n",
       "      <td>12/02/2022</td>\n",
       "      <td>16:00:00</td>\n",
       "      <td>Reading</td>\n",
       "      <td>DM150</td>\n",
       "      <td>0.1</td>\n",
       "      <td>R</td>\n",
       "      <td>G</td>\n",
       "    </tr>\n",
       "    <tr>\n",
       "      <th>2</th>\n",
       "      <td>12/02/2022</td>\n",
       "      <td>15:30:00</td>\n",
       "      <td>Reading</td>\n",
       "      <td>DM150</td>\n",
       "      <td>0.2</td>\n",
       "      <td>R</td>\n",
       "      <td>G</td>\n",
       "    </tr>\n",
       "    <tr>\n",
       "      <th>3</th>\n",
       "      <td>12/02/2022</td>\n",
       "      <td>15:00:00</td>\n",
       "      <td>Reading</td>\n",
       "      <td>DM150</td>\n",
       "      <td>0.4</td>\n",
       "      <td>R</td>\n",
       "      <td>G</td>\n",
       "    </tr>\n",
       "    <tr>\n",
       "      <th>4</th>\n",
       "      <td>12/02/2022</td>\n",
       "      <td>14:30:00</td>\n",
       "      <td>Reading</td>\n",
       "      <td>DM150</td>\n",
       "      <td>0.5</td>\n",
       "      <td>R</td>\n",
       "      <td>G</td>\n",
       "    </tr>\n",
       "    <tr>\n",
       "      <th>...</th>\n",
       "      <td>...</td>\n",
       "      <td>...</td>\n",
       "      <td>...</td>\n",
       "      <td>...</td>\n",
       "      <td>...</td>\n",
       "      <td>...</td>\n",
       "      <td>...</td>\n",
       "    </tr>\n",
       "    <tr>\n",
       "      <th>655</th>\n",
       "      <td>01/01/2022</td>\n",
       "      <td>12:00:00</td>\n",
       "      <td>Reading</td>\n",
       "      <td>DM150</td>\n",
       "      <td>0.1</td>\n",
       "      <td>R</td>\n",
       "      <td>G</td>\n",
       "    </tr>\n",
       "    <tr>\n",
       "      <th>656</th>\n",
       "      <td>01/01/2022</td>\n",
       "      <td>11:30:00</td>\n",
       "      <td>Reading</td>\n",
       "      <td>DM150</td>\n",
       "      <td>0.1</td>\n",
       "      <td>R</td>\n",
       "      <td>G</td>\n",
       "    </tr>\n",
       "    <tr>\n",
       "      <th>657</th>\n",
       "      <td>01/01/2022</td>\n",
       "      <td>11:00:00</td>\n",
       "      <td>Reading</td>\n",
       "      <td>DM150</td>\n",
       "      <td>0.3</td>\n",
       "      <td>R</td>\n",
       "      <td>G</td>\n",
       "    </tr>\n",
       "    <tr>\n",
       "      <th>658</th>\n",
       "      <td>01/01/2022</td>\n",
       "      <td>10:30:00</td>\n",
       "      <td>Reading</td>\n",
       "      <td>DM150</td>\n",
       "      <td>0.3</td>\n",
       "      <td>R</td>\n",
       "      <td>G</td>\n",
       "    </tr>\n",
       "    <tr>\n",
       "      <th>659</th>\n",
       "      <td>01/01/2022</td>\n",
       "      <td>10:00:00</td>\n",
       "      <td>Reading</td>\n",
       "      <td>DM150</td>\n",
       "      <td>0.2</td>\n",
       "      <td>R</td>\n",
       "      <td>G</td>\n",
       "    </tr>\n",
       "  </tbody>\n",
       "</table>\n",
       "<p>660 rows × 7 columns</p>\n",
       "</div>"
      ],
      "text/plain": [
       "    Measurement date Measurement time     Site Instrument  UV Total Index  \\\n",
       "0         12/02/2022         16:30:00  Reading      DM150             0.1   \n",
       "1         12/02/2022         16:00:00  Reading      DM150             0.1   \n",
       "2         12/02/2022         15:30:00  Reading      DM150             0.2   \n",
       "3         12/02/2022         15:00:00  Reading      DM150             0.4   \n",
       "4         12/02/2022         14:30:00  Reading      DM150             0.5   \n",
       "..               ...              ...      ...        ...             ...   \n",
       "655       01/01/2022         12:00:00  Reading      DM150             0.1   \n",
       "656       01/01/2022         11:30:00  Reading      DM150             0.1   \n",
       "657       01/01/2022         11:00:00  Reading      DM150             0.3   \n",
       "658       01/01/2022         10:30:00  Reading      DM150             0.3   \n",
       "659       01/01/2022         10:00:00  Reading      DM150             0.2   \n",
       "\n",
       "    Level Data Quality  \n",
       "0       R            G  \n",
       "1       R            G  \n",
       "2       R            G  \n",
       "3       R            G  \n",
       "4       R            G  \n",
       "..    ...          ...  \n",
       "655     R            G  \n",
       "656     R            G  \n",
       "657     R            G  \n",
       "658     R            G  \n",
       "659     R            G  \n",
       "\n",
       "[660 rows x 7 columns]"
      ]
     },
     "execution_count": 10,
     "metadata": {},
     "output_type": "execute_result"
    }
   ],
   "source": [
    "df"
   ]
  },
  {
   "cell_type": "code",
   "execution_count": 11,
   "id": "fa52edf5",
   "metadata": {},
   "outputs": [
    {
     "data": {
      "text/plain": [
       "(17, 7)"
      ]
     },
     "execution_count": 11,
     "metadata": {},
     "output_type": "execute_result"
    }
   ],
   "source": [
    "\n",
    "df.loc[df[\"Measurement date\"] == \"12/02/2022\"].shape\n",
    "\n",
    "##Seems there are 17 rows for each day"
   ]
  },
  {
   "cell_type": "code",
   "execution_count": 12,
   "id": "07faa532",
   "metadata": {},
   "outputs": [
    {
     "data": {
      "text/plain": [
       "43"
      ]
     },
     "execution_count": 12,
     "metadata": {},
     "output_type": "execute_result"
    }
   ],
   "source": [
    "##Lets see how many unique days there are in the data\n",
    "df[\"Measurement date\"].nunique()"
   ]
  },
  {
   "cell_type": "code",
   "execution_count": 16,
   "id": "ee346256",
   "metadata": {},
   "outputs": [
    {
     "name": "stdout",
     "output_type": "stream",
     "text": [
      "['16:30:00' '16:00:00' '15:30:00' '15:00:00' '14:30:00' '14:00:00'\n",
      " '13:30:00' '13:00:00' '12:30:00' '12:00:00' '11:30:00' '11:00:00'\n",
      " '10:30:00' '10:00:00' '09:30:00' '09:00:00' '08:30:00']\n"
     ]
    }
   ],
   "source": [
    "##Lets see what the unique measurement are\n",
    "print(df[\"Measurement time\"].unique())\n",
    "##Seems like measurements are taken at half hour intervals from 08:30-16:30 every day"
   ]
  },
  {
   "cell_type": "code",
   "execution_count": 17,
   "id": "f247baa6",
   "metadata": {},
   "outputs": [],
   "source": [
    "## Creating a new column where date and time is combined"
   ]
  },
  {
   "cell_type": "code",
   "execution_count": 19,
   "id": "4eb5540d",
   "metadata": {
    "scrolled": true
   },
   "outputs": [
    {
     "data": {
      "text/plain": [
       "dtype('O')"
      ]
     },
     "execution_count": 19,
     "metadata": {},
     "output_type": "execute_result"
    }
   ],
   "source": [
    "##Checking dtype\n",
    "df[\"Measurement date\"].dtypes"
   ]
  },
  {
   "cell_type": "markdown",
   "id": "7d094432",
   "metadata": {},
   "source": [
    "##Plotting data with "
   ]
  },
  {
   "cell_type": "code",
   "execution_count": 25,
   "id": "773a9b17",
   "metadata": {},
   "outputs": [
    {
     "data": {
      "text/plain": [
       "<AxesSubplot: xlabel='Measurement time'>"
      ]
     },
     "execution_count": 25,
     "metadata": {},
     "output_type": "execute_result"
    },
    {
     "data": {
      "image/png": "[encoded data removed]",
      "text/plain": [
       "<Figure size 432x288 with 1 Axes>"
      ]
     },
     "metadata": {
      "needs_background": "light"
     },
     "output_type": "display_data"
    }
   ],
   "source": [
    "df.plot(x = 'Measurement time' , y = ['UV Total Index'])"
   ]
  },
  {
   "cell_type": "code",
   "execution_count": null,
   "id": "d0bb80d1",
   "metadata": {},
   "outputs": [],
   "source": [
    "##currently the date and time columns aren't quite working. need to fix b"
   ]
  }
 ],
 "metadata": {
  "kernelspec": {
   "display_name": "Python 3 (ipykernel)",
   "language": "python",
   "name": "python3"
  },
  "language_info": {
   "codemirror_mode": {
    "name": "ipython",
    "version": 3
   },
   "file_extension": ".py",
   "mimetype": "text/x-python",
   "name": "python",
   "nbconvert_exporter": "python",
   "pygments_lexer": "ipython3",
   "version": "3.9.15"
  }
 },
 "nbformat": 4,
 "nbformat_minor": 5
}
