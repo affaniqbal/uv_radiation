{
 "cells": [
  {
   "cell_type": "markdown",
   "id": "78ce3b04",
   "metadata": {},
   "source": [
    "## Importing the necessary packages"
   ]
  },
  {
   "cell_type": "code",
   "execution_count": 1,
   "id": "127d2fe5",
   "metadata": {},
   "outputs": [],
   "source": [
    "# import sys\n",
    "# import tkinter as tk\n",
    "# from tkinter import filedialog\n",
    "import pandas as pd\n",
    "import matplotlib.pyplot as plt\n"
   ]
  },
  {
   "cell_type": "markdown",
   "id": "66ff35e4",
   "metadata": {},
   "source": [
    "## Loading the raw data.\n",
    "### The data is from DEFRA, please see this link https://uk-air.defra.gov.uk/data/uv-data?action=search\n",
    "#### This link also defines the column headers"
   ]
  },
  {
   "cell_type": "code",
   "execution_count": 2,
   "id": "2f201d15",
   "metadata": {},
   "outputs": [
    {
     "name": "stdout",
     "output_type": "stream",
     "text": [
      " Volume in drive C has no label.\n",
      " Volume Serial Number is A61A-B099\n",
      "\n",
      " Directory of C:\\Users\\aniqb\\Files\\Untitled Folder\n",
      "\n",
      "11/12/2022  20:43    <DIR>          .\n",
      "11/12/2022  20:43    <DIR>          ..\n",
      "11/12/2022  20:42    <DIR>          .ipynb_checkpoints\n",
      "11/12/2022  20:42            27,953 ce46599147cf5c0f9bfc8a3165fd67ad.csv\n",
      "11/12/2022  20:42             1,133 UK_UV_data.ipynb\n",
      "11/12/2022  19:54           300,915 uv_radiation.ipynb\n",
      "               3 File(s)        330,001 bytes\n",
      "               3 Dir(s)  138,374,000,640 bytes free\n"
     ]
    }
   ],
   "source": [
    "ls"
   ]
  },
  {
   "cell_type": "markdown",
   "id": "6ca8b2bc",
   "metadata": {},
   "source": [
    "## Load the file and print the first few rows using pandas"
   ]
  },
  {
   "cell_type": "code",
   "execution_count": 4,
   "id": "05b0d60b",
   "metadata": {},
   "outputs": [],
   "source": [
    "df = pd.read_csv('uv_data.csv')"
   ]
  },
  {
   "cell_type": "code",
   "execution_count": 5,
   "id": "263b9511",
   "metadata": {},
   "outputs": [
    {
     "data": {
      "text/html": [
       "<div>\n",
       "<style scoped>\n",
       "    .dataframe tbody tr th:only-of-type {\n",
       "        vertical-align: middle;\n",
       "    }\n",
       "\n",
       "    .dataframe tbody tr th {\n",
       "        vertical-align: top;\n",
       "    }\n",
       "\n",
       "    .dataframe thead th {\n",
       "        text-align: right;\n",
       "    }\n",
       "</style>\n",
       "<table border=\"1\" class=\"dataframe\">\n",
       "  <thead>\n",
       "    <tr style=\"text-align: right;\">\n",
       "      <th></th>\n",
       "      <th>Measurement date</th>\n",
       "      <th>Measurement time</th>\n",
       "      <th>Site</th>\n",
       "      <th>Instrument</th>\n",
       "      <th>UV Total Index</th>\n",
       "      <th>Level</th>\n",
       "      <th>Data Quality</th>\n",
       "    </tr>\n",
       "  </thead>\n",
       "  <tbody>\n",
       "    <tr>\n",
       "      <th>0</th>\n",
       "      <td>12/02/2022</td>\n",
       "      <td>16:30:00</td>\n",
       "      <td>Reading</td>\n",
       "      <td>DM150</td>\n",
       "      <td>0.1</td>\n",
       "      <td>R</td>\n",
       "      <td>G</td>\n",
       "    </tr>\n",
       "    <tr>\n",
       "      <th>1</th>\n",
       "      <td>12/02/2022</td>\n",
       "      <td>16:00:00</td>\n",
       "      <td>Reading</td>\n",
       "      <td>DM150</td>\n",
       "      <td>0.1</td>\n",
       "      <td>R</td>\n",
       "      <td>G</td>\n",
       "    </tr>\n",
       "    <tr>\n",
       "      <th>2</th>\n",
       "      <td>12/02/2022</td>\n",
       "      <td>15:30:00</td>\n",
       "      <td>Reading</td>\n",
       "      <td>DM150</td>\n",
       "      <td>0.2</td>\n",
       "      <td>R</td>\n",
       "      <td>G</td>\n",
       "    </tr>\n",
       "    <tr>\n",
       "      <th>3</th>\n",
       "      <td>12/02/2022</td>\n",
       "      <td>15:00:00</td>\n",
       "      <td>Reading</td>\n",
       "      <td>DM150</td>\n",
       "      <td>0.4</td>\n",
       "      <td>R</td>\n",
       "      <td>G</td>\n",
       "    </tr>\n",
       "    <tr>\n",
       "      <th>4</th>\n",
       "      <td>12/02/2022</td>\n",
       "      <td>14:30:00</td>\n",
       "      <td>Reading</td>\n",
       "      <td>DM150</td>\n",
       "      <td>0.5</td>\n",
       "      <td>R</td>\n",
       "      <td>G</td>\n",
       "    </tr>\n",
       "  </tbody>\n",
       "</table>\n",
       "</div>"
      ],
      "text/plain": [
       "  Measurement date Measurement time     Site Instrument  UV Total Index Level  \\\n",
       "0       12/02/2022         16:30:00  Reading      DM150             0.1     R   \n",
       "1       12/02/2022         16:00:00  Reading      DM150             0.1     R   \n",
       "2       12/02/2022         15:30:00  Reading      DM150             0.2     R   \n",
       "3       12/02/2022         15:00:00  Reading      DM150             0.4     R   \n",
       "4       12/02/2022         14:30:00  Reading      DM150             0.5     R   \n",
       "\n",
       "  Data Quality  \n",
       "0            G  \n",
       "1            G  \n",
       "2            G  \n",
       "3            G  \n",
       "4            G  "
      ]
     },
     "execution_count": 5,
     "metadata": {},
     "output_type": "execute_result"
    }
   ],
   "source": [
    "df.head()"
   ]
  },
  {
   "cell_type": "code",
   "execution_count": 6,
   "id": "084c42af",
   "metadata": {},
   "outputs": [
    {
     "name": "stdout",
     "output_type": "stream",
     "text": [
      "Index(['Measurement date', 'Measurement time', 'Site', 'Instrument',\n",
      "       'UV Total Index', 'Level', 'Data Quality'],\n",
      "      dtype='object')\n"
     ]
    }
   ],
   "source": [
    "## Print out the different data features\n",
    "column_names = df.columns\n",
    "print(column_names)"
   ]
  },
  {
   "cell_type": "markdown",
   "id": "7928a295",
   "metadata": {},
   "source": [
    "##Lets see how granular the data is in the time domain."
   ]
  },
  {
   "cell_type": "code",
   "execution_count": 7,
   "id": "5d7ba2d9",
   "metadata": {},
   "outputs": [
    {
     "data": {
      "text/plain": [
       "(660, 7)"
      ]
     },
     "execution_count": 7,
     "metadata": {},
     "output_type": "execute_result"
    }
   ],
   "source": [
    "df.shape"
   ]
  },
  {
   "cell_type": "code",
   "execution_count": null,
   "id": "fa52edf5",
   "metadata": {},
   "outputs": [],
   "source": [
    "\n",
    "df.loc[df[\"SETTLEMENT_DATE\"] == \"2022-01-01\"].shape\n",
    "\n",
    "##Seems there are 48 rows for each day with the \n",
    "##settlement perdiod ranging from 0 to 47"
   ]
  },
  {
   "cell_type": "code",
   "execution_count": null,
   "id": "07faa532",
   "metadata": {},
   "outputs": [],
   "source": [
    "##Lets see how many unique days there are in the data\n",
    "df[\"SETTLEMENT_DATE\"].nunique()"
   ]
  },
  {
   "cell_type": "code",
   "execution_count": null,
   "id": "ae66d604",
   "metadata": {},
   "outputs": [],
   "source": [
    "##Lets print the range of dates that are present in the dataset.\n",
    "print(df[\"SETTLEMENT_DATE\"].min())\n",
    "print(df[\"SETTLEMENT_DATE\"].max())\n",
    "\n",
    "##Seems like as of 11st Dec 2022, the data has been updated to include data\n",
    "##up to 19th Nov 2022"
   ]
  },
  {
   "cell_type": "code",
   "execution_count": null,
   "id": "f247baa6",
   "metadata": {},
   "outputs": [],
   "source": [
    "## Creating a new column where date and time is combined"
   ]
  },
  {
   "cell_type": "code",
   "execution_count": null,
   "id": "4eb5540d",
   "metadata": {
    "scrolled": true
   },
   "outputs": [],
   "source": [
    "##Lets see how many unique days there are in the data\n",
    "df[\"SETTLEMENT_DATE\"].dtypes"
   ]
  },
  {
   "cell_type": "code",
   "execution_count": null,
   "id": "52ad2513",
   "metadata": {},
   "outputs": [],
   "source": [
    "# combine the date and time columns into a single datetime column\n",
    "# using a default time of 00:00:00\n",
    "df['DATETIME'] = pd.to_datetime(df['SETTLEMENT_DATE'] + ' 00:00:00', format='%Y-%m-%d %H:%M:%S')\n",
    "\n",
    "# add the appropriate time interval to the datetime values\n",
    "df['DATETIME'] = df['DATETIME'] + pd.to_timedelta(df['SETTLEMENT_PERIOD'], unit='h') / 2\n",
    "\n",
    "df.head()"
   ]
  },
  {
   "cell_type": "code",
   "execution_count": null,
   "id": "6f55c22a",
   "metadata": {},
   "outputs": [],
   "source": [
    "##Set the new datetime as the data frame index\n",
    "df.set_index(\"DATETIME\", inplace= True)"
   ]
  },
  {
   "cell_type": "code",
   "execution_count": null,
   "id": "d34aa63d",
   "metadata": {},
   "outputs": [],
   "source": [
    "##Exploring ND, TSD and ENGLAND_WALES_DEMAND\n",
    "###ND = National Demand \n",
    "### TSD = Transmission system demand and is  = ND + 3 additional demands\n",
    "#### i) station load, ii) puump storage pumping, iii) interconnects exports\n",
    "##### TSD includes estimate of station load of 500MW in BST and 600MW in GMT"
   ]
  },
  {
   "cell_type": "markdown",
   "id": "7d094432",
   "metadata": {},
   "source": [
    "##Plotting National Demand as a function of time with varying resolutions"
   ]
  },
  {
   "cell_type": "code",
   "execution_count": null,
   "id": "8680b97b",
   "metadata": {},
   "outputs": [],
   "source": [
    "##Plotting all datapoints (i.e. half-hourly data)\n",
    "df.plot( y = ['ND', 'TSD'])"
   ]
  },
  {
   "cell_type": "code",
   "execution_count": null,
   "id": "55823f0d",
   "metadata": {},
   "outputs": [],
   "source": [
    "##Plotting first week only (i.e. half-hourly data)\n",
    "df.plot( y = ['ND', 'TSD'], xlim = (\"2022-01-01 00:30:00\", \"2022-01-08 00:30:00\"))\n",
    "df.plot( y = ['ND', 'TSD'], xlim = (\"2022-01-08 00:30:00\", \"2022-01-15 00:30:00\"))"
   ]
  },
  {
   "cell_type": "code",
   "execution_count": null,
   "id": "2a10fd1f",
   "metadata": {},
   "outputs": [],
   "source": [
    "##Plotting one week in summer only (i.e. half-hourly data)\n",
    "df.plot( y = ['ND', 'TSD'], xlim = (\"2022-07-01 00:30:00\", \"2022-07-08 00:30:00\"))\n",
    "df.plot( y = ['ND', 'TSD'], xlim = (\"2022-07-08 00:30:00\", \"2022-07-15 00:30:00\"))"
   ]
  },
  {
   "cell_type": "code",
   "execution_count": null,
   "id": "a37af400",
   "metadata": {},
   "outputs": [],
   "source": [
    "##Plotting one day only in winter (i.e. half-hourly data)\n",
    "df.plot( y = ['ND', 'TSD'], xlim = (\"2022-01-03 00:30:00\", \"2022-01-04 00:30:00\"))\n",
    "df.plot( y = ['ND', 'TSD'], xlim = (\"2022-01-04 00:30:00\", \"2022-01-05 00:30:00\"))"
   ]
  },
  {
   "cell_type": "code",
   "execution_count": null,
   "id": "773a9b17",
   "metadata": {},
   "outputs": [],
   "source": [
    "##Plotting one day only in summer (i.e. half-hourly data)\n",
    "df.plot( y = ['ND', 'TSD'], xlim = (\"2022-07-01 00:30:00\", \"2022-07-02 00:30:00\"))\n",
    "df.plot( y = ['ND', 'TSD'], xlim = (\"2022-07-02 00:30:00\", \"2022-07-03 00:30:00\"))"
   ]
  },
  {
   "cell_type": "code",
   "execution_count": null,
   "id": "1369f446",
   "metadata": {},
   "outputs": [],
   "source": []
  }
 ],
 "metadata": {
  "kernelspec": {
   "display_name": "Python 3 (ipykernel)",
   "language": "python",
   "name": "python3"
  },
  "language_info": {
   "codemirror_mode": {
    "name": "ipython",
    "version": 3
   },
   "file_extension": ".py",
   "mimetype": "text/x-python",
   "name": "python",
   "nbconvert_exporter": "python",
   "pygments_lexer": "ipython3",
   "version": "3.9.15"
  }
 },
 "nbformat": 4,
 "nbformat_minor": 5
}
